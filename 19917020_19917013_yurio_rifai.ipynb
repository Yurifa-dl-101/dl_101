{
 "cells": [
  {
   "cell_type": "markdown",
   "metadata": {},
   "source": [
    "# Import the necessary libraries"
   ]
  },
  {
   "cell_type": "code",
   "execution_count": 4,
   "metadata": {},
   "outputs": [],
   "source": [
    "import warnings\n",
    "warnings.filterwarnings(\"default\", category=DeprecationWarning)\n",
    "\n",
    "import pandas as pd\n",
    "import matplotlib.pyplot as plt\n",
    "import seaborn as sns\n",
    "\n",
    "from sklearn.model_selection import train_test_split\n",
    "from sklearn.preprocessing import LabelEncoder\n",
    "\n",
    "from keras.models import Model\n",
    "from keras.layers import LSTM, Activation, Dense, Dropout, Input, Embedding\n",
    "from keras.optimizers import RMSprop\n",
    "from keras.preprocessing.text import Tokenizer\n",
    "from keras.preprocessing import sequence\n",
    "from keras.utils import to_categorical\n",
    "from keras.callbacks import EarlyStopping\n",
    "\n",
    "import keras\n",
    "import pydot as pyd\n",
    "keras.utils.vis_utils.pydot = pyd\n",
    "from IPython.display import SVG\n",
    "from keras.utils.vis_utils import model_to_dot\n",
    "from keras.utils import plot_model"
   ]
  },
  {
   "cell_type": "markdown",
   "metadata": {},
   "source": [
    "# Load the data into Pandas dataframe"
   ]
  },
  {
   "cell_type": "code",
   "execution_count": 5,
   "metadata": {},
   "outputs": [
    {
     "data": {
      "text/html": [
       "<div>\n",
       "<style scoped>\n",
       "    .dataframe tbody tr th:only-of-type {\n",
       "        vertical-align: middle;\n",
       "    }\n",
       "\n",
       "    .dataframe tbody tr th {\n",
       "        vertical-align: top;\n",
       "    }\n",
       "\n",
       "    .dataframe thead th {\n",
       "        text-align: right;\n",
       "    }\n",
       "</style>\n",
       "<table border=\"1\" class=\"dataframe\">\n",
       "  <thead>\n",
       "    <tr style=\"text-align: right;\">\n",
       "      <th></th>\n",
       "      <th>v1</th>\n",
       "      <th>v2</th>\n",
       "      <th>Unnamed: 2</th>\n",
       "      <th>Unnamed: 3</th>\n",
       "      <th>Unnamed: 4</th>\n",
       "    </tr>\n",
       "  </thead>\n",
       "  <tbody>\n",
       "    <tr>\n",
       "      <th>0</th>\n",
       "      <td>ham</td>\n",
       "      <td>Go until jurong point, crazy.. Available only ...</td>\n",
       "      <td>NaN</td>\n",
       "      <td>NaN</td>\n",
       "      <td>NaN</td>\n",
       "    </tr>\n",
       "    <tr>\n",
       "      <th>1</th>\n",
       "      <td>ham</td>\n",
       "      <td>Ok lar... Joking wif u oni...</td>\n",
       "      <td>NaN</td>\n",
       "      <td>NaN</td>\n",
       "      <td>NaN</td>\n",
       "    </tr>\n",
       "    <tr>\n",
       "      <th>2</th>\n",
       "      <td>spam</td>\n",
       "      <td>Free entry in 2 a wkly comp to win FA Cup fina...</td>\n",
       "      <td>NaN</td>\n",
       "      <td>NaN</td>\n",
       "      <td>NaN</td>\n",
       "    </tr>\n",
       "    <tr>\n",
       "      <th>3</th>\n",
       "      <td>ham</td>\n",
       "      <td>U dun say so early hor... U c already then say...</td>\n",
       "      <td>NaN</td>\n",
       "      <td>NaN</td>\n",
       "      <td>NaN</td>\n",
       "    </tr>\n",
       "    <tr>\n",
       "      <th>4</th>\n",
       "      <td>ham</td>\n",
       "      <td>Nah I don't think he goes to usf, he lives aro...</td>\n",
       "      <td>NaN</td>\n",
       "      <td>NaN</td>\n",
       "      <td>NaN</td>\n",
       "    </tr>\n",
       "  </tbody>\n",
       "</table>\n",
       "</div>"
      ],
      "text/plain": [
       "     v1                                                 v2 Unnamed: 2  \\\n",
       "0   ham  Go until jurong point, crazy.. Available only ...        NaN   \n",
       "1   ham                      Ok lar... Joking wif u oni...        NaN   \n",
       "2  spam  Free entry in 2 a wkly comp to win FA Cup fina...        NaN   \n",
       "3   ham  U dun say so early hor... U c already then say...        NaN   \n",
       "4   ham  Nah I don't think he goes to usf, he lives aro...        NaN   \n",
       "\n",
       "  Unnamed: 3 Unnamed: 4  \n",
       "0        NaN        NaN  \n",
       "1        NaN        NaN  \n",
       "2        NaN        NaN  \n",
       "3        NaN        NaN  \n",
       "4        NaN        NaN  "
      ]
     },
     "execution_count": 5,
     "metadata": {},
     "output_type": "execute_result"
    }
   ],
   "source": [
    "df = pd.read_csv('data/spam.csv',delimiter=',',encoding='latin-1')\n",
    "df.head()"
   ]
  },
  {
   "cell_type": "code",
   "execution_count": 6,
   "metadata": {},
   "outputs": [
    {
     "name": "stdout",
     "output_type": "stream",
     "text": [
      "<class 'pandas.core.frame.DataFrame'>\n",
      "RangeIndex: 5572 entries, 0 to 5571\n",
      "Data columns (total 2 columns):\n",
      " #   Column  Non-Null Count  Dtype \n",
      "---  ------  --------------  ----- \n",
      " 0   v1      5572 non-null   object\n",
      " 1   v2      5572 non-null   object\n",
      "dtypes: object(2)\n",
      "memory usage: 87.2+ KB\n"
     ]
    }
   ],
   "source": [
    "df.drop(['Unnamed: 2', 'Unnamed: 3', 'Unnamed: 4'],axis=1,inplace=True)\n",
    "df.info()"
   ]
  },
  {
   "cell_type": "markdown",
   "metadata": {},
   "source": [
    "# Understanding data distribution better"
   ]
  },
  {
   "cell_type": "code",
   "execution_count": 7,
   "metadata": {},
   "outputs": [
    {
     "data": {
      "text/plain": [
       "Text(0.5, 1.0, 'Number of ham and spam messages')"
      ]
     },
     "execution_count": 7,
     "metadata": {},
     "output_type": "execute_result"
    },
    {
     "data": {
      "image/png": "[encoded data removed]",
      "text/plain": [
       "<Figure size 432x288 with 1 Axes>"
      ]
     },
     "metadata": {
      "needs_background": "light"
     },
     "output_type": "display_data"
    }
   ],
   "source": [
    "sns.countplot(df.v1)\n",
    "plt.xlabel('Label')\n",
    "plt.title('Number of ham and spam messages')"
   ]
  },
  {
   "cell_type": "markdown",
   "metadata": {},
   "source": [
    "## Create input and output vectors.\n",
    "### Process the labels."
   ]
  },
  {
   "cell_type": "code",
   "execution_count": 8,
   "metadata": {},
   "outputs": [],
   "source": [
    "X = df.v2\n",
    "Y = df.v1\n",
    "le = LabelEncoder() # sklearn preprocessing object LabelEncoder to encode label\n",
    "Y = le.fit_transform(Y) # fit and transform Y into encode label\n",
    "Y = Y.reshape(-1,1)  # reshape value encode into -1(spam), 1(ham)"
   ]
  },
  {
   "cell_type": "markdown",
   "metadata": {},
   "source": [
    "# Split into training and test data."
   ]
  },
  {
   "cell_type": "code",
   "execution_count": 9,
   "metadata": {},
   "outputs": [],
   "source": [
    "X_train,X_test,Y_train,Y_test = train_test_split(X,Y,test_size=0.15)"
   ]
  },
  {
   "cell_type": "code",
   "execution_count": 10,
   "metadata": {},
   "outputs": [
    {
     "data": {
      "text/plain": [
       "5082    Amazing : If you rearrange these letters it gi...\n",
       "4644                    Are you planning to come chennai?\n",
       "3514                     I'm job profile seems like bpo..\n",
       "2925                      Im done. Just studyn in library\n",
       "4509    This weekend is fine (an excuse not to do too ...\n",
       "                              ...                        \n",
       "1220    No. 1 Nokia Tone 4 ur mob every week! Just txt...\n",
       "2984    No break time one... How... I come out n get m...\n",
       "1030    Can not use foreign stamps in this country. Go...\n",
       "2073    FreeMsg: Claim ur 250 SMS messages-Text OK to ...\n",
       "4628    Only saturday and sunday holiday so its very d...\n",
       "Name: v2, Length: 4736, dtype: object"
      ]
     },
     "execution_count": 10,
     "metadata": {},
     "output_type": "execute_result"
    }
   ],
   "source": [
    "X_train"
   ]
  },
  {
   "cell_type": "markdown",
   "metadata": {},
   "source": [
    "# Process the data\n",
    "- Tokenize the data and convert the `text` to `sequences`.\n",
    "- Add padding `to ensure` `that all the sequences` `have the same shape`.\n",
    "- There are many ways of taking the `max_len` `and here` `an arbitrary` `length of 150` `is chosen`."
   ]
  },
  {
   "cell_type": "code",
   "execution_count": 11,
   "metadata": {},
   "outputs": [],
   "source": [
    "max_words = 1000 # arbitrary set max words for corpus\n",
    "max_len = 150 # maximum len for max shape array"
   ]
  },
  {
   "cell_type": "code",
   "execution_count": 12,
   "metadata": {},
   "outputs": [],
   "source": [
    "tok = Tokenizer(num_words=max_words) # keras.preprocessing.text \n",
    "# Tokenizer object\n",
    "\n",
    "tok.fit_on_texts(X_train) # Updates internal vocabulary based on a list \n",
    "# of texts\n",
    "\n",
    "sequences = tok.texts_to_sequences(X_train) # Transforms each text in \n",
    "# texts to a sequence of integers\n",
    "\n",
    "sequences_matrix = sequence.pad_sequences(sequences,maxlen=max_len) \n",
    "# keras.preprocessing sequence method to transforms a list of sequences \n",
    "# (lists of integers) into a 2D Numpy array of shape `(num_samples, \n",
    "# num_timesteps)`. `num_timesteps` is either the `maxlen` argument \n",
    "# if provided, or the length of the longest sequence otherwise"
   ]
  },
  {
   "cell_type": "code",
   "execution_count": 13,
   "metadata": {},
   "outputs": [
    {
     "name": "stdout",
     "output_type": "stream",
     "text": [
      "(1, 'i')\n",
      "(2, 'to')\n",
      "(3, 'you')\n",
      "(4, 'a')\n",
      "(5, 'the')\n",
      "(6, 'u')\n"
     ]
    }
   ],
   "source": [
    "for i,k in enumerate(tok.index_word.items()):  # 1000 words\n",
    "    print(k)\n",
    "    if i == 5:\n",
    "        break"
   ]
  },
  {
   "cell_type": "code",
   "execution_count": 14,
   "metadata": {},
   "outputs": [
    {
     "name": "stdout",
     "output_type": "stream",
     "text": [
      "[35, 3, 521, 15, 5, 276, 341, 5, 111, 84, 652, 8, 482, 386, 482, 77, 62]\n",
      "[21, 3, 2, 59, 693]\n",
      "[34, 277, 60]\n",
      "[159, 294, 37, 8]\n",
      "[40, 412, 9, 257, 121, 24, 2, 28, 139, 116]\n",
      "[1, 61, 82, 15, 550, 3]\n"
     ]
    }
   ],
   "source": [
    "for i,k in enumerate(sequences): # sequence of integers mapping words to tok corpus\n",
    "    print(k)\n",
    "    if i == 5:\n",
    "        break"
   ]
  },
  {
   "cell_type": "code",
   "execution_count": 15,
   "metadata": {},
   "outputs": [
    {
     "data": {
      "text/plain": [
       "array([[  0,   0,   0, ..., 482,  77,  62],\n",
       "       [  0,   0,   0, ...,   2,  59, 693],\n",
       "       [  0,   0,   0, ...,  34, 277,  60],\n",
       "       ...,\n",
       "       [  0,   0,   0, ...,   8,  40,  55],\n",
       "       [  0,   0,   0, ..., 268,  27,  91],\n",
       "       [  0,   0,   0, ...,  62, 166, 849]], dtype=int32)"
      ]
     },
     "execution_count": 15,
     "metadata": {},
     "output_type": "execute_result"
    }
   ],
   "source": [
    "sequences_matrix"
   ]
  },
  {
   "cell_type": "code",
   "execution_count": 16,
   "metadata": {},
   "outputs": [
    {
     "data": {
      "text/plain": [
       "(4736, 150)"
      ]
     },
     "execution_count": 16,
     "metadata": {},
     "output_type": "execute_result"
    }
   ],
   "source": [
    "sequences_matrix.shape # matrix 4736 x 150 \n",
    "# (after padding sequences 150 equally)"
   ]
  },
  {
   "cell_type": "code",
   "execution_count": 17,
   "metadata": {},
   "outputs": [],
   "source": [
    "# RNN\n",
    "# Define the RNN structure.\n",
    "\n",
    "def RNN():\n",
    "    inputs = Input(name='inputs',shape=[max_len])\n",
    "    layer = Embedding(max_words,50,input_length=max_len)(inputs)\n",
    "    layer = LSTM(64)(layer)\n",
    "    layer = Dense(256,name='FC1')(layer) # (64*256)+256 = 16640 params\n",
    "    layer = Activation('relu')(layer)\n",
    "    layer = Dropout(0.5)(layer)\n",
    "    layer = Dense(1,name='out_layer')(layer) # (256*1)+1 = 257 params\n",
    "    layer = Activation('sigmoid')(layer)\n",
    "    model = Model(inputs=inputs,outputs=layer)\n",
    "    return model"
   ]
  },
  {
   "cell_type": "code",
   "execution_count": 18,
   "metadata": {},
   "outputs": [
    {
     "name": "stdout",
     "output_type": "stream",
     "text": [
      "Model: \"model_1\"\n",
      "_________________________________________________________________\n",
      "Layer (type)                 Output Shape              Param #   \n",
      "=================================================================\n",
      "inputs (InputLayer)          (None, 150)               0         \n",
      "_________________________________________________________________\n",
      "embedding_1 (Embedding)      (None, 150, 50)           50000     \n",
      "_________________________________________________________________\n",
      "lstm_1 (LSTM)                (None, 64)                29440     \n",
      "_________________________________________________________________\n",
      "FC1 (Dense)                  (None, 256)               16640     \n",
      "_________________________________________________________________\n",
      "activation_1 (Activation)    (None, 256)               0         \n",
      "_________________________________________________________________\n",
      "dropout_1 (Dropout)          (None, 256)               0         \n",
      "_________________________________________________________________\n",
      "out_layer (Dense)            (None, 1)                 257       \n",
      "_________________________________________________________________\n",
      "activation_2 (Activation)    (None, 1)                 0         \n",
      "=================================================================\n",
      "Total params: 96,337\n",
      "Trainable params: 96,337\n",
      "Non-trainable params: 0\n",
      "_________________________________________________________________\n",
      "WARNING:tensorflow:From /usr/local/anaconda3/envs/dl_101/lib/python3.7/site-packages/tensorflow/python/ops/nn_impl.py:180: add_dispatch_support.<locals>.wrapper (from tensorflow.python.ops.array_ops) is deprecated and will be removed in a future version.\n",
      "Instructions for updating:\n",
      "Use tf.where in 2.0, which has the same broadcast rule as np.where\n"
     ]
    }
   ],
   "source": [
    "# Call the function and compile the model.\n",
    "\n",
    "model = RNN()\n",
    "model.summary()\n",
    "model.compile(loss='binary_crossentropy',optimizer=RMSprop(),\n",
    "              metrics=['accuracy'])"
   ]
  },
  {
   "cell_type": "markdown",
   "metadata": {},
   "source": [
    "# Visualize Model"
   ]
  },
  {
   "cell_type": "code",
   "execution_count": 19,
   "metadata": {},
   "outputs": [
    {
     "data": {
      "image/svg+xml": [
       "<svg height=\"741pt\" viewBox=\"0.00 0.00 172.14 556.00\" width=\"230pt\" xmlns=\"http://www.w3.org/2000/svg\" xmlns:xlink=\"http://www.w3.org/1999/xlink\">\n",
       "<g class=\"graph\" id=\"graph0\" transform=\"scale(0.75 0.75) rotate(0) translate(4 552)\">\n",
       "<title>G</title>\n",
       "<polygon fill=\"white\" points=\"-4,4 -4,-552 168.14,-552 168.14,4 -4,4\" stroke=\"transparent\"/>\n",
       "<!-- 112759675024 -->\n",
       "<g class=\"node\" id=\"node1\">\n",
       "<title>112759675024</title>\n",
       "<polygon fill=\"none\" points=\"22.17,-511.5 22.17,-547.5 141.98,-547.5 141.98,-511.5 22.17,-511.5\" stroke=\"black\"/>\n",
       "<text font-family=\"Times,serif\" font-size=\"14.00\" text-anchor=\"middle\" x=\"82.07\" y=\"-525.3\">inputs: InputLayer</text>\n",
       "</g>\n",
       "<!-- 112759736592 -->\n",
       "<g class=\"node\" id=\"node2\">\n",
       "<title>112759736592</title>\n",
       "<polygon fill=\"none\" points=\"0,-438.5 0,-474.5 164.14,-474.5 164.14,-438.5 0,-438.5\" stroke=\"black\"/>\n",
       "<text font-family=\"Times,serif\" font-size=\"14.00\" text-anchor=\"middle\" x=\"82.07\" y=\"-452.3\">embedding_1: Embedding</text>\n",
       "</g>\n",
       "<!-- 112759675024&#45;&gt;112759736592 -->\n",
       "<g class=\"edge\" id=\"edge1\">\n",
       "<title>112759675024-&gt;112759736592</title>\n",
       "<path d=\"M82.07,-511.31C82.07,-503.29 82.07,-493.55 82.07,-484.57\" fill=\"none\" stroke=\"black\"/>\n",
       "<polygon fill=\"black\" points=\"85.57,-484.53 82.07,-474.53 78.57,-484.53 85.57,-484.53\" stroke=\"black\"/>\n",
       "</g>\n",
       "<!-- 112759736208 -->\n",
       "<g class=\"node\" id=\"node3\">\n",
       "<title>112759736208</title>\n",
       "<polygon fill=\"none\" points=\"32.65,-365.5 32.65,-401.5 131.49,-401.5 131.49,-365.5 32.65,-365.5\" stroke=\"black\"/>\n",
       "<text font-family=\"Times,serif\" font-size=\"14.00\" text-anchor=\"middle\" x=\"82.07\" y=\"-379.3\">lstm_1: LSTM</text>\n",
       "</g>\n",
       "<!-- 112759736592&#45;&gt;112759736208 -->\n",
       "<g class=\"edge\" id=\"edge2\">\n",
       "<title>112759736592-&gt;112759736208</title>\n",
       "<path d=\"M82.07,-438.31C82.07,-430.29 82.07,-420.55 82.07,-411.57\" fill=\"none\" stroke=\"black\"/>\n",
       "<polygon fill=\"black\" points=\"85.57,-411.53 82.07,-401.53 78.57,-411.53 85.57,-411.53\" stroke=\"black\"/>\n",
       "</g>\n",
       "<!-- 112123755216 -->\n",
       "<g class=\"node\" id=\"node4\">\n",
       "<title>112123755216</title>\n",
       "<polygon fill=\"none\" points=\"40.82,-292.5 40.82,-328.5 123.32,-328.5 123.32,-292.5 40.82,-292.5\" stroke=\"black\"/>\n",
       "<text font-family=\"Times,serif\" font-size=\"14.00\" text-anchor=\"middle\" x=\"82.07\" y=\"-306.3\">FC1: Dense</text>\n",
       "</g>\n",
       "<!-- 112759736208&#45;&gt;112123755216 -->\n",
       "<g class=\"edge\" id=\"edge3\">\n",
       "<title>112759736208-&gt;112123755216</title>\n",
       "<path d=\"M82.07,-365.31C82.07,-357.29 82.07,-347.55 82.07,-338.57\" fill=\"none\" stroke=\"black\"/>\n",
       "<polygon fill=\"black\" points=\"85.57,-338.53 82.07,-328.53 78.57,-338.53 85.57,-338.53\" stroke=\"black\"/>\n",
       "</g>\n",
       "<!-- 112736494224 -->\n",
       "<g class=\"node\" id=\"node5\">\n",
       "<title>112736494224</title>\n",
       "<polygon fill=\"none\" points=\"6.61,-219.5 6.61,-255.5 157.53,-255.5 157.53,-219.5 6.61,-219.5\" stroke=\"black\"/>\n",
       "<text font-family=\"Times,serif\" font-size=\"14.00\" text-anchor=\"middle\" x=\"82.07\" y=\"-233.3\">activation_1: Activation</text>\n",
       "</g>\n",
       "<!-- 112123755216&#45;&gt;112736494224 -->\n",
       "<g class=\"edge\" id=\"edge4\">\n",
       "<title>112123755216-&gt;112736494224</title>\n",
       "<path d=\"M82.07,-292.31C82.07,-284.29 82.07,-274.55 82.07,-265.57\" fill=\"none\" stroke=\"black\"/>\n",
       "<polygon fill=\"black\" points=\"85.57,-265.53 82.07,-255.53 78.57,-265.53 85.57,-265.53\" stroke=\"black\"/>\n",
       "</g>\n",
       "<!-- 112744655376 -->\n",
       "<g class=\"node\" id=\"node6\">\n",
       "<title>112744655376</title>\n",
       "<polygon fill=\"none\" points=\"18.27,-146.5 18.27,-182.5 145.87,-182.5 145.87,-146.5 18.27,-146.5\" stroke=\"black\"/>\n",
       "<text font-family=\"Times,serif\" font-size=\"14.00\" text-anchor=\"middle\" x=\"82.07\" y=\"-160.3\">dropout_1: Dropout</text>\n",
       "</g>\n",
       "<!-- 112736494224&#45;&gt;112744655376 -->\n",
       "<g class=\"edge\" id=\"edge5\">\n",
       "<title>112736494224-&gt;112744655376</title>\n",
       "<path d=\"M82.07,-219.31C82.07,-211.29 82.07,-201.55 82.07,-192.57\" fill=\"none\" stroke=\"black\"/>\n",
       "<polygon fill=\"black\" points=\"85.57,-192.53 82.07,-182.53 78.57,-192.53 85.57,-192.53\" stroke=\"black\"/>\n",
       "</g>\n",
       "<!-- 112743557392 -->\n",
       "<g class=\"node\" id=\"node7\">\n",
       "<title>112743557392</title>\n",
       "<polygon fill=\"none\" points=\"26.45,-73.5 26.45,-109.5 137.69,-109.5 137.69,-73.5 26.45,-73.5\" stroke=\"black\"/>\n",
       "<text font-family=\"Times,serif\" font-size=\"14.00\" text-anchor=\"middle\" x=\"82.07\" y=\"-87.3\">out_layer: Dense</text>\n",
       "</g>\n",
       "<!-- 112744655376&#45;&gt;112743557392 -->\n",
       "<g class=\"edge\" id=\"edge6\">\n",
       "<title>112744655376-&gt;112743557392</title>\n",
       "<path d=\"M82.07,-146.31C82.07,-138.29 82.07,-128.55 82.07,-119.57\" fill=\"none\" stroke=\"black\"/>\n",
       "<polygon fill=\"black\" points=\"85.57,-119.53 82.07,-109.53 78.57,-119.53 85.57,-119.53\" stroke=\"black\"/>\n",
       "</g>\n",
       "<!-- 112745022224 -->\n",
       "<g class=\"node\" id=\"node8\">\n",
       "<title>112745022224</title>\n",
       "<polygon fill=\"none\" points=\"6.61,-0.5 6.61,-36.5 157.53,-36.5 157.53,-0.5 6.61,-0.5\" stroke=\"black\"/>\n",
       "<text font-family=\"Times,serif\" font-size=\"14.00\" text-anchor=\"middle\" x=\"82.07\" y=\"-14.3\">activation_2: Activation</text>\n",
       "</g>\n",
       "<!-- 112743557392&#45;&gt;112745022224 -->\n",
       "<g class=\"edge\" id=\"edge7\">\n",
       "<title>112743557392-&gt;112745022224</title>\n",
       "<path d=\"M82.07,-73.31C82.07,-65.29 82.07,-55.55 82.07,-46.57\" fill=\"none\" stroke=\"black\"/>\n",
       "<polygon fill=\"black\" points=\"85.57,-46.53 82.07,-36.53 78.57,-46.53 85.57,-46.53\" stroke=\"black\"/>\n",
       "</g>\n",
       "</g>\n",
       "</svg>"
      ],
      "text/plain": [
       "<IPython.core.display.SVG object>"
      ]
     },
     "execution_count": 19,
     "metadata": {},
     "output_type": "execute_result"
    }
   ],
   "source": [
    "def visualize_model(model):\n",
    "    return SVG(model_to_dot(model).create(prog='dot', format='svg'))\n",
    "\n",
    "visualize_model(model)\n",
    "\n",
    "# plot_model(model, to_file='model.png') # save image"
   ]
  },
  {
   "cell_type": "code",
   "execution_count": 20,
   "metadata": {},
   "outputs": [],
   "source": [
    "# model.fit(sequences_matrix,Y_train,batch_size=128,epochs=10,\n",
    "#           validation_split=0.2,callbacks=[EarlyStopping(monitor='val_loss',\n",
    "#                                                         min_delta=0.0001)])\n",
    "model.load_weights('weights.h5')"
   ]
  },
  {
   "cell_type": "code",
   "execution_count": 21,
   "metadata": {},
   "outputs": [],
   "source": [
    "# Process the test set data.\n",
    "test_sequences = tok.texts_to_sequences(X_test)\n",
    "test_sequences_matrix = sequence.pad_sequences(test_sequences,\n",
    "                                               maxlen=max_len)"
   ]
  },
  {
   "cell_type": "code",
   "execution_count": 22,
   "metadata": {},
   "outputs": [
    {
     "name": "stdout",
     "output_type": "stream",
     "text": [
      "WARNING:tensorflow:From /usr/local/anaconda3/envs/dl_101/lib/python3.7/site-packages/keras/backend/tensorflow_backend.py:422: The name tf.global_variables is deprecated. Please use tf.compat.v1.global_variables instead.\n",
      "\n",
      "836/836 [==============================] - 3s 3ms/step\n"
     ]
    }
   ],
   "source": [
    "# Evaluate the model on the test set.\n",
    "\n",
    "accr = model.evaluate(test_sequences_matrix,Y_test)"
   ]
  },
  {
   "cell_type": "code",
   "execution_count": 23,
   "metadata": {},
   "outputs": [
    {
     "name": "stdout",
     "output_type": "stream",
     "text": [
      "Test set\n",
      "  Loss: 0.753\n",
      "  Accuracy: 0.862\n"
     ]
    }
   ],
   "source": [
    "print('Test set\\n  Loss: {:0.3f}\\n  Accuracy: {:0.3f}'.format(accr[0],accr[1]))"
   ]
  },
  {
   "cell_type": "code",
   "execution_count": 24,
   "metadata": {},
   "outputs": [],
   "source": [
    "# model.save_weights('weights.h5')"
   ]
  },
  {
   "cell_type": "code",
   "execution_count": null,
   "metadata": {},
   "outputs": [],
   "source": []
  }
 ],
 "metadata": {
  "kernelspec": {
   "display_name": "Python 3",
   "language": "python",
   "name": "python3"
  },
  "language_info": {
   "codemirror_mode": {
    "name": "ipython",
    "version": 3
   },
   "file_extension": ".py",
   "mimetype": "text/x-python",
   "name": "python",
   "nbconvert_exporter": "python",
   "pygments_lexer": "ipython3",
   "version": "3.7.6"
  }
 },
 "nbformat": 4,
 "nbformat_minor": 2
}
